{
  "nbformat": 4,
  "nbformat_minor": 0,
  "metadata": {
    "colab": {
      "provenance": []
    },
    "kernelspec": {
      "name": "python3",
      "display_name": "Python 3"
    },
    "language_info": {
      "name": "python"
    }
  },
  "cells": [
    {
      "cell_type": "code",
      "execution_count": null,
      "metadata": {
        "id": "3RZXQ_fKxq3X"
      },
      "outputs": [],
      "source": [
        "import os\n",
        "import numpy as np\n",
        "import pandas as pd\n",
        "from tensorflow.keras.layers import Dense,SimpleRNN\n",
        "from sklearn.preprocessing import MinMaxScaler\n",
        "from tensorflow.keras.models import Sequential\n",
        "import matplotlib.pyplot as plt\n",
        "from keras.preprocessing.sequence import TimeseriesGenerator"
      ]
    },
    {
      "cell_type": "code",
      "source": [
        "data=pd.read_csv('/content/data.csv',index_col='Month',parse_dates=True)\n",
        "data"
      ],
      "metadata": {
        "colab": {
          "base_uri": "https://localhost:8080/",
          "height": 455
        },
        "id": "JT34UCEeyZDo",
        "outputId": "f4e40343-9297-4894-8990-67e8937f1508"
      },
      "execution_count": null,
      "outputs": [
        {
          "output_type": "execute_result",
          "data": {
            "text/plain": [
              "            Sales\n",
              "Month            \n",
              "1964-01-01   2815\n",
              "1964-02-01   2672\n",
              "1964-03-01   2755\n",
              "1964-04-01   2721\n",
              "1964-05-01   2946\n",
              "...           ...\n",
              "1972-05-01   4618\n",
              "1972-06-01   5312\n",
              "1972-07-01   4298\n",
              "1972-08-01   1413\n",
              "1972-09-01   5877\n",
              "\n",
              "[105 rows x 1 columns]"
            ],
            "text/html": [
              "\n",
              "  <div id=\"df-286493d3-9190-4a6f-b4f1-ac0738cfb377\" class=\"colab-df-container\">\n",
              "    <div>\n",
              "<style scoped>\n",
              "    .dataframe tbody tr th:only-of-type {\n",
              "        vertical-align: middle;\n",
              "    }\n",
              "\n",
              "    .dataframe tbody tr th {\n",
              "        vertical-align: top;\n",
              "    }\n",
              "\n",
              "    .dataframe thead th {\n",
              "        text-align: right;\n",
              "    }\n",
              "</style>\n",
              "<table border=\"1\" class=\"dataframe\">\n",
              "  <thead>\n",
              "    <tr style=\"text-align: right;\">\n",
              "      <th></th>\n",
              "      <th>Sales</th>\n",
              "    </tr>\n",
              "    <tr>\n",
              "      <th>Month</th>\n",
              "      <th></th>\n",
              "    </tr>\n",
              "  </thead>\n",
              "  <tbody>\n",
              "    <tr>\n",
              "      <th>1964-01-01</th>\n",
              "      <td>2815</td>\n",
              "    </tr>\n",
              "    <tr>\n",
              "      <th>1964-02-01</th>\n",
              "      <td>2672</td>\n",
              "    </tr>\n",
              "    <tr>\n",
              "      <th>1964-03-01</th>\n",
              "      <td>2755</td>\n",
              "    </tr>\n",
              "    <tr>\n",
              "      <th>1964-04-01</th>\n",
              "      <td>2721</td>\n",
              "    </tr>\n",
              "    <tr>\n",
              "      <th>1964-05-01</th>\n",
              "      <td>2946</td>\n",
              "    </tr>\n",
              "    <tr>\n",
              "      <th>...</th>\n",
              "      <td>...</td>\n",
              "    </tr>\n",
              "    <tr>\n",
              "      <th>1972-05-01</th>\n",
              "      <td>4618</td>\n",
              "    </tr>\n",
              "    <tr>\n",
              "      <th>1972-06-01</th>\n",
              "      <td>5312</td>\n",
              "    </tr>\n",
              "    <tr>\n",
              "      <th>1972-07-01</th>\n",
              "      <td>4298</td>\n",
              "    </tr>\n",
              "    <tr>\n",
              "      <th>1972-08-01</th>\n",
              "      <td>1413</td>\n",
              "    </tr>\n",
              "    <tr>\n",
              "      <th>1972-09-01</th>\n",
              "      <td>5877</td>\n",
              "    </tr>\n",
              "  </tbody>\n",
              "</table>\n",
              "<p>105 rows × 1 columns</p>\n",
              "</div>\n",
              "    <div class=\"colab-df-buttons\">\n",
              "\n",
              "  <div class=\"colab-df-container\">\n",
              "    <button class=\"colab-df-convert\" onclick=\"convertToInteractive('df-286493d3-9190-4a6f-b4f1-ac0738cfb377')\"\n",
              "            title=\"Convert this dataframe to an interactive table.\"\n",
              "            style=\"display:none;\">\n",
              "\n",
              "  <svg xmlns=\"http://www.w3.org/2000/svg\" height=\"24px\" viewBox=\"0 -960 960 960\">\n",
              "    <path d=\"M120-120v-720h720v720H120Zm60-500h600v-160H180v160Zm220 220h160v-160H400v160Zm0 220h160v-160H400v160ZM180-400h160v-160H180v160Zm440 0h160v-160H620v160ZM180-180h160v-160H180v160Zm440 0h160v-160H620v160Z\"/>\n",
              "  </svg>\n",
              "    </button>\n",
              "\n",
              "  <style>\n",
              "    .colab-df-container {\n",
              "      display:flex;\n",
              "      gap: 12px;\n",
              "    }\n",
              "\n",
              "    .colab-df-convert {\n",
              "      background-color: #E8F0FE;\n",
              "      border: none;\n",
              "      border-radius: 50%;\n",
              "      cursor: pointer;\n",
              "      display: none;\n",
              "      fill: #1967D2;\n",
              "      height: 32px;\n",
              "      padding: 0 0 0 0;\n",
              "      width: 32px;\n",
              "    }\n",
              "\n",
              "    .colab-df-convert:hover {\n",
              "      background-color: #E2EBFA;\n",
              "      box-shadow: 0px 1px 2px rgba(60, 64, 67, 0.3), 0px 1px 3px 1px rgba(60, 64, 67, 0.15);\n",
              "      fill: #174EA6;\n",
              "    }\n",
              "\n",
              "    .colab-df-buttons div {\n",
              "      margin-bottom: 4px;\n",
              "    }\n",
              "\n",
              "    [theme=dark] .colab-df-convert {\n",
              "      background-color: #3B4455;\n",
              "      fill: #D2E3FC;\n",
              "    }\n",
              "\n",
              "    [theme=dark] .colab-df-convert:hover {\n",
              "      background-color: #434B5C;\n",
              "      box-shadow: 0px 1px 3px 1px rgba(0, 0, 0, 0.15);\n",
              "      filter: drop-shadow(0px 1px 2px rgba(0, 0, 0, 0.3));\n",
              "      fill: #FFFFFF;\n",
              "    }\n",
              "  </style>\n",
              "\n",
              "    <script>\n",
              "      const buttonEl =\n",
              "        document.querySelector('#df-286493d3-9190-4a6f-b4f1-ac0738cfb377 button.colab-df-convert');\n",
              "      buttonEl.style.display =\n",
              "        google.colab.kernel.accessAllowed ? 'block' : 'none';\n",
              "\n",
              "      async function convertToInteractive(key) {\n",
              "        const element = document.querySelector('#df-286493d3-9190-4a6f-b4f1-ac0738cfb377');\n",
              "        const dataTable =\n",
              "          await google.colab.kernel.invokeFunction('convertToInteractive',\n",
              "                                                    [key], {});\n",
              "        if (!dataTable) return;\n",
              "\n",
              "        const docLinkHtml = 'Like what you see? Visit the ' +\n",
              "          '<a target=\"_blank\" href=https://colab.research.google.com/notebooks/data_table.ipynb>data table notebook</a>'\n",
              "          + ' to learn more about interactive tables.';\n",
              "        element.innerHTML = '';\n",
              "        dataTable['output_type'] = 'display_data';\n",
              "        await google.colab.output.renderOutput(dataTable, element);\n",
              "        const docLink = document.createElement('div');\n",
              "        docLink.innerHTML = docLinkHtml;\n",
              "        element.appendChild(docLink);\n",
              "      }\n",
              "    </script>\n",
              "  </div>\n",
              "\n",
              "\n",
              "<div id=\"df-5d1e8ce7-b2b9-4bc1-96db-51a7d44cb40e\">\n",
              "  <button class=\"colab-df-quickchart\" onclick=\"quickchart('df-5d1e8ce7-b2b9-4bc1-96db-51a7d44cb40e')\"\n",
              "            title=\"Suggest charts\"\n",
              "            style=\"display:none;\">\n",
              "\n",
              "<svg xmlns=\"http://www.w3.org/2000/svg\" height=\"24px\"viewBox=\"0 0 24 24\"\n",
              "     width=\"24px\">\n",
              "    <g>\n",
              "        <path d=\"M19 3H5c-1.1 0-2 .9-2 2v14c0 1.1.9 2 2 2h14c1.1 0 2-.9 2-2V5c0-1.1-.9-2-2-2zM9 17H7v-7h2v7zm4 0h-2V7h2v10zm4 0h-2v-4h2v4z\"/>\n",
              "    </g>\n",
              "</svg>\n",
              "  </button>\n",
              "\n",
              "<style>\n",
              "  .colab-df-quickchart {\n",
              "      --bg-color: #E8F0FE;\n",
              "      --fill-color: #1967D2;\n",
              "      --hover-bg-color: #E2EBFA;\n",
              "      --hover-fill-color: #174EA6;\n",
              "      --disabled-fill-color: #AAA;\n",
              "      --disabled-bg-color: #DDD;\n",
              "  }\n",
              "\n",
              "  [theme=dark] .colab-df-quickchart {\n",
              "      --bg-color: #3B4455;\n",
              "      --fill-color: #D2E3FC;\n",
              "      --hover-bg-color: #434B5C;\n",
              "      --hover-fill-color: #FFFFFF;\n",
              "      --disabled-bg-color: #3B4455;\n",
              "      --disabled-fill-color: #666;\n",
              "  }\n",
              "\n",
              "  .colab-df-quickchart {\n",
              "    background-color: var(--bg-color);\n",
              "    border: none;\n",
              "    border-radius: 50%;\n",
              "    cursor: pointer;\n",
              "    display: none;\n",
              "    fill: var(--fill-color);\n",
              "    height: 32px;\n",
              "    padding: 0;\n",
              "    width: 32px;\n",
              "  }\n",
              "\n",
              "  .colab-df-quickchart:hover {\n",
              "    background-color: var(--hover-bg-color);\n",
              "    box-shadow: 0 1px 2px rgba(60, 64, 67, 0.3), 0 1px 3px 1px rgba(60, 64, 67, 0.15);\n",
              "    fill: var(--button-hover-fill-color);\n",
              "  }\n",
              "\n",
              "  .colab-df-quickchart-complete:disabled,\n",
              "  .colab-df-quickchart-complete:disabled:hover {\n",
              "    background-color: var(--disabled-bg-color);\n",
              "    fill: var(--disabled-fill-color);\n",
              "    box-shadow: none;\n",
              "  }\n",
              "\n",
              "  .colab-df-spinner {\n",
              "    border: 2px solid var(--fill-color);\n",
              "    border-color: transparent;\n",
              "    border-bottom-color: var(--fill-color);\n",
              "    animation:\n",
              "      spin 1s steps(1) infinite;\n",
              "  }\n",
              "\n",
              "  @keyframes spin {\n",
              "    0% {\n",
              "      border-color: transparent;\n",
              "      border-bottom-color: var(--fill-color);\n",
              "      border-left-color: var(--fill-color);\n",
              "    }\n",
              "    20% {\n",
              "      border-color: transparent;\n",
              "      border-left-color: var(--fill-color);\n",
              "      border-top-color: var(--fill-color);\n",
              "    }\n",
              "    30% {\n",
              "      border-color: transparent;\n",
              "      border-left-color: var(--fill-color);\n",
              "      border-top-color: var(--fill-color);\n",
              "      border-right-color: var(--fill-color);\n",
              "    }\n",
              "    40% {\n",
              "      border-color: transparent;\n",
              "      border-right-color: var(--fill-color);\n",
              "      border-top-color: var(--fill-color);\n",
              "    }\n",
              "    60% {\n",
              "      border-color: transparent;\n",
              "      border-right-color: var(--fill-color);\n",
              "    }\n",
              "    80% {\n",
              "      border-color: transparent;\n",
              "      border-right-color: var(--fill-color);\n",
              "      border-bottom-color: var(--fill-color);\n",
              "    }\n",
              "    90% {\n",
              "      border-color: transparent;\n",
              "      border-bottom-color: var(--fill-color);\n",
              "    }\n",
              "  }\n",
              "</style>\n",
              "\n",
              "  <script>\n",
              "    async function quickchart(key) {\n",
              "      const quickchartButtonEl =\n",
              "        document.querySelector('#' + key + ' button');\n",
              "      quickchartButtonEl.disabled = true;  // To prevent multiple clicks.\n",
              "      quickchartButtonEl.classList.add('colab-df-spinner');\n",
              "      try {\n",
              "        const charts = await google.colab.kernel.invokeFunction(\n",
              "            'suggestCharts', [key], {});\n",
              "      } catch (error) {\n",
              "        console.error('Error during call to suggestCharts:', error);\n",
              "      }\n",
              "      quickchartButtonEl.classList.remove('colab-df-spinner');\n",
              "      quickchartButtonEl.classList.add('colab-df-quickchart-complete');\n",
              "    }\n",
              "    (() => {\n",
              "      let quickchartButtonEl =\n",
              "        document.querySelector('#df-5d1e8ce7-b2b9-4bc1-96db-51a7d44cb40e button');\n",
              "      quickchartButtonEl.style.display =\n",
              "        google.colab.kernel.accessAllowed ? 'block' : 'none';\n",
              "    })();\n",
              "  </script>\n",
              "</div>\n",
              "\n",
              "  <div id=\"id_01275133-8802-404f-810c-cdc836df26a4\">\n",
              "    <style>\n",
              "      .colab-df-generate {\n",
              "        background-color: #E8F0FE;\n",
              "        border: none;\n",
              "        border-radius: 50%;\n",
              "        cursor: pointer;\n",
              "        display: none;\n",
              "        fill: #1967D2;\n",
              "        height: 32px;\n",
              "        padding: 0 0 0 0;\n",
              "        width: 32px;\n",
              "      }\n",
              "\n",
              "      .colab-df-generate:hover {\n",
              "        background-color: #E2EBFA;\n",
              "        box-shadow: 0px 1px 2px rgba(60, 64, 67, 0.3), 0px 1px 3px 1px rgba(60, 64, 67, 0.15);\n",
              "        fill: #174EA6;\n",
              "      }\n",
              "\n",
              "      [theme=dark] .colab-df-generate {\n",
              "        background-color: #3B4455;\n",
              "        fill: #D2E3FC;\n",
              "      }\n",
              "\n",
              "      [theme=dark] .colab-df-generate:hover {\n",
              "        background-color: #434B5C;\n",
              "        box-shadow: 0px 1px 3px 1px rgba(0, 0, 0, 0.15);\n",
              "        filter: drop-shadow(0px 1px 2px rgba(0, 0, 0, 0.3));\n",
              "        fill: #FFFFFF;\n",
              "      }\n",
              "    </style>\n",
              "    <button class=\"colab-df-generate\" onclick=\"generateWithVariable('data')\"\n",
              "            title=\"Generate code using this dataframe.\"\n",
              "            style=\"display:none;\">\n",
              "\n",
              "  <svg xmlns=\"http://www.w3.org/2000/svg\" height=\"24px\"viewBox=\"0 0 24 24\"\n",
              "       width=\"24px\">\n",
              "    <path d=\"M7,19H8.4L18.45,9,17,7.55,7,17.6ZM5,21V16.75L18.45,3.32a2,2,0,0,1,2.83,0l1.4,1.43a1.91,1.91,0,0,1,.58,1.4,1.91,1.91,0,0,1-.58,1.4L9.25,21ZM18.45,9,17,7.55Zm-12,3A5.31,5.31,0,0,0,4.9,8.1,5.31,5.31,0,0,0,1,6.5,5.31,5.31,0,0,0,4.9,4.9,5.31,5.31,0,0,0,6.5,1,5.31,5.31,0,0,0,8.1,4.9,5.31,5.31,0,0,0,12,6.5,5.46,5.46,0,0,0,6.5,12Z\"/>\n",
              "  </svg>\n",
              "    </button>\n",
              "    <script>\n",
              "      (() => {\n",
              "      const buttonEl =\n",
              "        document.querySelector('#id_01275133-8802-404f-810c-cdc836df26a4 button.colab-df-generate');\n",
              "      buttonEl.style.display =\n",
              "        google.colab.kernel.accessAllowed ? 'block' : 'none';\n",
              "\n",
              "      buttonEl.onclick = () => {\n",
              "        google.colab.notebook.generateWithVariable('data');\n",
              "      }\n",
              "      })();\n",
              "    </script>\n",
              "  </div>\n",
              "\n",
              "    </div>\n",
              "  </div>\n"
            ],
            "application/vnd.google.colaboratory.intrinsic+json": {
              "type": "dataframe",
              "variable_name": "data",
              "summary": "{\n  \"name\": \"data\",\n  \"rows\": 105,\n  \"fields\": [\n    {\n      \"column\": \"Month\",\n      \"properties\": {\n        \"dtype\": \"date\",\n        \"min\": \"1964-01-01 00:00:00\",\n        \"max\": \"1972-09-01 00:00:00\",\n        \"num_unique_values\": 105,\n        \"samples\": [\n          \"1966-07-01 00:00:00\",\n          \"1969-06-01 00:00:00\",\n          \"1969-05-01 00:00:00\"\n        ],\n        \"semantic_type\": \"\",\n        \"description\": \"\"\n      }\n    },\n    {\n      \"column\": \"Sales\",\n      \"properties\": {\n        \"dtype\": \"number\",\n        \"std\": 2553,\n        \"min\": 1413,\n        \"max\": 13916,\n        \"num_unique_values\": 103,\n        \"samples\": [\n          3260,\n          5222,\n          4510\n        ],\n        \"semantic_type\": \"\",\n        \"description\": \"\"\n      }\n    }\n  ]\n}"
            }
          },
          "metadata": {},
          "execution_count": 11
        }
      ]
    },
    {
      "cell_type": "code",
      "source": [
        "data.plot(figsize=(10,5))"
      ],
      "metadata": {
        "colab": {
          "base_uri": "https://localhost:8080/",
          "height": 483
        },
        "id": "CFvo4S7Xyy2o",
        "outputId": "65169f6a-8186-4aa5-8c68-ce14df6152d0"
      },
      "execution_count": null,
      "outputs": [
        {
          "output_type": "execute_result",
          "data": {
            "text/plain": [
              "<Axes: xlabel='Month'>"
            ]
          },
          "metadata": {},
          "execution_count": 12
        },
        {
          "output_type": "display_data",
          "data": {
            "text/plain": [
              "<Figure size 1000x500 with 1 Axes>"
            ],
            "image/png": "[encoded data removed]"
          },
          "metadata": {}
        }
      ]
    },
    {
      "cell_type": "markdown",
      "source": [],
      "metadata": {
        "id": "qpxhD6hJy5eo"
      }
    },
    {
      "cell_type": "code",
      "source": [
        "scalar=MinMaxScaler()\n",
        "traindata=data[:53]\n",
        "testdata=data[52:]"
      ],
      "metadata": {
        "id": "j7eayrh7zX4W"
      },
      "execution_count": null,
      "outputs": []
    },
    {
      "cell_type": "code",
      "source": [
        "scaledtraindata=scalar.fit_transform(traindata)\n",
        "scaledtestdata=scalar.fit_transform(testdata)"
      ],
      "metadata": {
        "id": "67vVuo8KzvNP"
      },
      "execution_count": null,
      "outputs": []
    },
    {
      "cell_type": "code",
      "source": [
        "n_input=12\n",
        "n_features=1\n",
        "generator=TimeseriesGenerator(scaledtraindata,scaledtraindata,length=12,batch_size=1)"
      ],
      "metadata": {
        "id": "7Pjx1JUw0P4z"
      },
      "execution_count": null,
      "outputs": []
    },
    {
      "cell_type": "code",
      "source": [
        "x,y=generator[0]\n",
        "print(x.flatten(),y)"
      ],
      "metadata": {
        "colab": {
          "base_uri": "https://localhost:8080/"
        },
        "id": "odE0fhQn1B0T",
        "outputId": "28b9684e-3e38-4def-baa1-df960ee8b74b"
      },
      "execution_count": null,
      "outputs": [
        {
          "output_type": "stream",
          "name": "stdout",
          "text": [
            "[0.13681428 0.12106191 0.13020489 0.12645957 0.15124477 0.16115885\n",
            " 0.0781009  0.07038995 0.14860101 0.30050672 0.46166557 0.63218771] [[0.10663142]]\n"
          ]
        }
      ]
    },
    {
      "cell_type": "code",
      "source": [
        "x,y=generator[1]\n",
        "print(x.flatten(),y)"
      ],
      "metadata": {
        "colab": {
          "base_uri": "https://localhost:8080/"
        },
        "id": "Fs8LNnnv1NjX",
        "outputId": "01e061e1-2a99-4920-d2c7-0f23b588ac44"
      },
      "execution_count": null,
      "outputs": [
        {
          "output_type": "stream",
          "name": "stdout",
          "text": [
            "[0.12106191 0.13020489 0.12645957 0.15124477 0.16115885 0.0781009\n",
            " 0.07038995 0.14860101 0.30050672 0.46166557 0.63218771 0.10663142] [[0.09936109]]\n"
          ]
        }
      ]
    },
    {
      "cell_type": "code",
      "source": [
        "x,y=generator[2]\n",
        "print(x.flatten(),y)"
      ],
      "metadata": {
        "colab": {
          "base_uri": "https://localhost:8080/"
        },
        "id": "E8z_4YGC1Wcp",
        "outputId": "90b30136-cf4a-4a41-fcf8-f186a94b49b7"
      },
      "execution_count": null,
      "outputs": [
        {
          "output_type": "stream",
          "name": "stdout",
          "text": [
            "[0.13020489 0.12645957 0.15124477 0.16115885 0.0781009  0.07038995\n",
            " 0.14860101 0.30050672 0.46166557 0.63218771 0.10663142 0.09936109] [[0.16060806]]\n"
          ]
        }
      ]
    },
    {
      "cell_type": "code",
      "source": [
        "model=Sequential()\n",
        "model.add(SimpleRNN(100,activation='relu',input_shape=(12,1)))\n",
        "model.add(Dense(1,activation='tanh'))"
      ],
      "metadata": {
        "id": "nINKu7131cW1"
      },
      "execution_count": null,
      "outputs": []
    },
    {
      "cell_type": "code",
      "source": [
        "model.compile(optimizer='adam',loss='mse')\n",
        "model.summary()\n"
      ],
      "metadata": {
        "colab": {
          "base_uri": "https://localhost:8080/"
        },
        "id": "p9AqHU2W16k2",
        "outputId": "4c016f23-dcfa-40e6-9adc-41d3e8c9888d"
      },
      "execution_count": null,
      "outputs": [
        {
          "output_type": "stream",
          "name": "stdout",
          "text": [
            "Model: \"sequential\"\n",
            "_________________________________________________________________\n",
            " Layer (type)                Output Shape              Param #   \n",
            "=================================================================\n",
            " simple_rnn (SimpleRNN)      (None, 100)               10200     \n",
            "                                                                 \n",
            " dense (Dense)               (None, 1)                 101       \n",
            "                                                                 \n",
            "=================================================================\n",
            "Total params: 10301 (40.24 KB)\n",
            "Trainable params: 10301 (40.24 KB)\n",
            "Non-trainable params: 0 (0.00 Byte)\n",
            "_________________________________________________________________\n"
          ]
        }
      ]
    },
    {
      "cell_type": "code",
      "source": [
        "Trained_history=model.fit(generator,epochs=20)"
      ],
      "metadata": {
        "colab": {
          "base_uri": "https://localhost:8080/"
        },
        "id": "CIN1qSJM2MuG",
        "outputId": "0e8b29c4-b36e-4d86-a392-4618a43050ae"
      },
      "execution_count": null,
      "outputs": [
        {
          "output_type": "stream",
          "name": "stdout",
          "text": [
            "Epoch 1/20\n",
            "41/41 [==============================] - 2s 6ms/step - loss: 0.0503\n",
            "Epoch 2/20\n",
            "41/41 [==============================] - 0s 6ms/step - loss: 0.0343\n",
            "Epoch 3/20\n",
            "41/41 [==============================] - 0s 5ms/step - loss: 0.0259\n",
            "Epoch 4/20\n",
            "41/41 [==============================] - 0s 4ms/step - loss: 0.0154\n",
            "Epoch 5/20\n",
            "41/41 [==============================] - 0s 4ms/step - loss: 0.0159\n",
            "Epoch 6/20\n",
            "41/41 [==============================] - 0s 3ms/step - loss: 0.0121\n",
            "Epoch 7/20\n",
            "41/41 [==============================] - 0s 4ms/step - loss: 0.0108\n",
            "Epoch 8/20\n",
            "41/41 [==============================] - 0s 4ms/step - loss: 0.0056\n",
            "Epoch 9/20\n",
            "41/41 [==============================] - 0s 3ms/step - loss: 0.0048\n",
            "Epoch 10/20\n",
            "41/41 [==============================] - 0s 4ms/step - loss: 0.0039\n",
            "Epoch 11/20\n",
            "41/41 [==============================] - 0s 4ms/step - loss: 0.0038\n",
            "Epoch 12/20\n",
            "41/41 [==============================] - 0s 4ms/step - loss: 0.0029\n",
            "Epoch 13/20\n",
            "41/41 [==============================] - 0s 3ms/step - loss: 0.0034\n",
            "Epoch 14/20\n",
            "41/41 [==============================] - 0s 3ms/step - loss: 0.0038\n",
            "Epoch 15/20\n",
            "41/41 [==============================] - 0s 3ms/step - loss: 0.0038\n",
            "Epoch 16/20\n",
            "41/41 [==============================] - 0s 3ms/step - loss: 0.0239\n",
            "Epoch 17/20\n",
            "41/41 [==============================] - 0s 3ms/step - loss: 0.0059\n",
            "Epoch 18/20\n",
            "41/41 [==============================] - 0s 3ms/step - loss: 0.0033\n",
            "Epoch 19/20\n",
            "41/41 [==============================] - 0s 3ms/step - loss: 0.0032\n",
            "Epoch 20/20\n",
            "41/41 [==============================] - 0s 4ms/step - loss: 0.0038\n"
          ]
        }
      ]
    },
    {
      "cell_type": "code",
      "source": [
        "hist=Trained_history.history\n",
        "hist.keys()"
      ],
      "metadata": {
        "colab": {
          "base_uri": "https://localhost:8080/"
        },
        "id": "Mrbl1RhW2gUD",
        "outputId": "7c6c56cb-de05-4222-8e4b-89fc6f5cd992"
      },
      "execution_count": null,
      "outputs": [
        {
          "output_type": "execute_result",
          "data": {
            "text/plain": [
              "dict_keys(['loss'])"
            ]
          },
          "metadata": {},
          "execution_count": 26
        }
      ]
    },
    {
      "cell_type": "code",
      "source": [
        "loss=model.history.history['loss']\n",
        "plt.plot(range(len(loss)),loss)"
      ],
      "metadata": {
        "colab": {
          "base_uri": "https://localhost:8080/",
          "height": 448
        },
        "id": "tNQxoQw52qzf",
        "outputId": "68f056fe-09d8-41d9-f8d4-10b238ad74a7"
      },
      "execution_count": null,
      "outputs": [
        {
          "output_type": "execute_result",
          "data": {
            "text/plain": [
              "[<matplotlib.lines.Line2D at 0x787423ed3eb0>]"
            ]
          },
          "metadata": {},
          "execution_count": 28
        },
        {
          "output_type": "display_data",
          "data": {
            "text/plain": [
              "<Figure size 640x480 with 1 Axes>"
            ],
            "image/png": "[encoded data removed]"
          },
          "metadata": {}
        }
      ]
    },
    {
      "cell_type": "code",
      "source": [
        "test_prediction=[]\n",
        "first_batch=scaledtraindata[-n_input:]\n",
        "current_batch=first_batch.reshape(1,12,1)\n",
        "for i in range(len(testdata)):\n",
        "  current_pred=model.predict(current_batch)[0]\n",
        "  print(current_pred)\n",
        "  test_prediction.append(current_pred)\n",
        "  current_batch=np.append(current_batch[:,1:,:],[[current_pred]],axis=1)\n"
      ],
      "metadata": {
        "colab": {
          "base_uri": "https://localhost:8080/"
        },
        "id": "3l9AWQY921Ql",
        "outputId": "f1f1b8ad-eebe-471f-8f4c-6ccc33198afe"
      },
      "execution_count": null,
      "outputs": [
        {
          "output_type": "stream",
          "name": "stdout",
          "text": [
            "1/1 [==============================] - 0s 20ms/step\n",
            "[0.3341921]\n",
            "1/1 [==============================] - 0s 19ms/step\n",
            "[0.30003393]\n",
            "1/1 [==============================] - 0s 22ms/step\n",
            "[0.06350426]\n",
            "1/1 [==============================] - 0s 24ms/step\n",
            "[0.29655096]\n",
            "1/1 [==============================] - 0s 22ms/step\n",
            "[0.42490926]\n",
            "1/1 [==============================] - 0s 22ms/step\n",
            "[0.73059744]\n",
            "1/1 [==============================] - 0s 23ms/step\n",
            "[0.9104437]\n",
            "1/1 [==============================] - 0s 20ms/step\n",
            "[0.4030052]\n",
            "1/1 [==============================] - 0s 21ms/step\n",
            "[0.1751819]\n",
            "1/1 [==============================] - 0s 22ms/step\n",
            "[0.23607405]\n",
            "1/1 [==============================] - 0s 22ms/step\n",
            "[0.25579813]\n",
            "1/1 [==============================] - 0s 20ms/step\n",
            "[0.27195472]\n",
            "1/1 [==============================] - 0s 24ms/step\n",
            "[0.3543149]\n",
            "1/1 [==============================] - 0s 20ms/step\n",
            "[0.32325205]\n",
            "1/1 [==============================] - 0s 21ms/step\n",
            "[0.07363454]\n",
            "1/1 [==============================] - 0s 23ms/step\n",
            "[0.26966816]\n",
            "1/1 [==============================] - 0s 25ms/step\n",
            "[0.3927366]\n",
            "1/1 [==============================] - 0s 20ms/step\n",
            "[0.68888396]\n",
            "1/1 [==============================] - 0s 20ms/step\n",
            "[0.88402873]\n",
            "1/1 [==============================] - 0s 20ms/step\n",
            "[0.44932684]\n",
            "1/1 [==============================] - 0s 21ms/step\n",
            "[0.16594955]\n",
            "1/1 [==============================] - 0s 23ms/step\n",
            "[0.20573248]\n",
            "1/1 [==============================] - 0s 22ms/step\n",
            "[0.24767461]\n",
            "1/1 [==============================] - 0s 39ms/step\n",
            "[0.2570988]\n",
            "1/1 [==============================] - 0s 32ms/step\n",
            "[0.36550322]\n",
            "1/1 [==============================] - 0s 32ms/step\n",
            "[0.33375174]\n",
            "1/1 [==============================] - 0s 35ms/step\n",
            "[0.09260248]\n",
            "1/1 [==============================] - 0s 31ms/step\n",
            "[0.24014322]\n",
            "1/1 [==============================] - 0s 37ms/step\n",
            "[0.36939797]\n",
            "1/1 [==============================] - 0s 37ms/step\n",
            "[0.64422584]\n",
            "1/1 [==============================] - 0s 38ms/step\n",
            "[0.8634551]\n",
            "1/1 [==============================] - 0s 33ms/step\n",
            "[0.5345057]\n",
            "1/1 [==============================] - 0s 31ms/step\n",
            "[0.16694856]\n",
            "1/1 [==============================] - 0s 32ms/step\n",
            "[0.17774619]\n",
            "1/1 [==============================] - 0s 40ms/step\n",
            "[0.25056088]\n",
            "1/1 [==============================] - 0s 33ms/step\n",
            "[0.25686374]\n",
            "1/1 [==============================] - 0s 35ms/step\n",
            "[0.36760488]\n",
            "1/1 [==============================] - 0s 36ms/step\n",
            "[0.34372517]\n",
            "1/1 [==============================] - 0s 34ms/step\n",
            "[0.1220794]\n",
            "1/1 [==============================] - 0s 33ms/step\n",
            "[0.20548354]\n",
            "1/1 [==============================] - 0s 31ms/step\n",
            "[0.35299084]\n",
            "1/1 [==============================] - 0s 37ms/step\n",
            "[0.5933302]\n",
            "1/1 [==============================] - 0s 42ms/step\n",
            "[0.83978254]\n",
            "1/1 [==============================] - 0s 48ms/step\n",
            "[0.6843254]\n",
            "1/1 [==============================] - 0s 31ms/step\n",
            "[0.19485141]\n",
            "1/1 [==============================] - 0s 30ms/step\n",
            "[0.16682088]\n",
            "1/1 [==============================] - 0s 32ms/step\n",
            "[0.26069567]\n",
            "1/1 [==============================] - 0s 33ms/step\n",
            "[0.2669939]\n",
            "1/1 [==============================] - 0s 38ms/step\n",
            "[0.35666856]\n",
            "1/1 [==============================] - 0s 39ms/step\n",
            "[0.34689254]\n",
            "1/1 [==============================] - 0s 27ms/step\n",
            "[0.19615237]\n",
            "1/1 [==============================] - 0s 20ms/step\n",
            "[0.13114806]\n",
            "1/1 [==============================] - 0s 25ms/step\n",
            "[0.34165806]\n"
          ]
        }
      ]
    },
    {
      "cell_type": "code",
      "source": [
        "print(test_prediction)"
      ],
      "metadata": {
        "colab": {
          "base_uri": "https://localhost:8080/"
        },
        "id": "4f0n2BXN39NS",
        "outputId": "d1e086f4-f5e7-4947-83f2-ba7a491ac6ef"
      },
      "execution_count": null,
      "outputs": [
        {
          "output_type": "stream",
          "name": "stdout",
          "text": [
            "[array([0.3341921], dtype=float32), array([0.30003393], dtype=float32), array([0.06350426], dtype=float32), array([0.29655096], dtype=float32), array([0.42490926], dtype=float32), array([0.73059744], dtype=float32), array([0.9104437], dtype=float32), array([0.4030052], dtype=float32), array([0.1751819], dtype=float32), array([0.23607405], dtype=float32), array([0.25579813], dtype=float32), array([0.27195472], dtype=float32), array([0.3543149], dtype=float32), array([0.32325205], dtype=float32), array([0.07363454], dtype=float32), array([0.26966816], dtype=float32), array([0.3927366], dtype=float32), array([0.68888396], dtype=float32), array([0.88402873], dtype=float32), array([0.44932684], dtype=float32), array([0.16594955], dtype=float32), array([0.20573248], dtype=float32), array([0.24767461], dtype=float32), array([0.2570988], dtype=float32), array([0.36550322], dtype=float32), array([0.33375174], dtype=float32), array([0.09260248], dtype=float32), array([0.24014322], dtype=float32), array([0.36939797], dtype=float32), array([0.64422584], dtype=float32), array([0.8634551], dtype=float32), array([0.5345057], dtype=float32), array([0.16694856], dtype=float32), array([0.17774619], dtype=float32), array([0.25056088], dtype=float32), array([0.25686374], dtype=float32), array([0.36760488], dtype=float32), array([0.34372517], dtype=float32), array([0.1220794], dtype=float32), array([0.20548354], dtype=float32), array([0.35299084], dtype=float32), array([0.5933302], dtype=float32), array([0.83978254], dtype=float32), array([0.6843254], dtype=float32), array([0.19485141], dtype=float32), array([0.16682088], dtype=float32), array([0.26069567], dtype=float32), array([0.2669939], dtype=float32), array([0.35666856], dtype=float32), array([0.34689254], dtype=float32), array([0.19615237], dtype=float32), array([0.13114806], dtype=float32), array([0.34165806], dtype=float32)]\n"
          ]
        }
      ]
    },
    {
      "cell_type": "code",
      "source": [
        "true_pred=scalar.inverse_transform(test_prediction)\n",
        "print(true_pred)"
      ],
      "metadata": {
        "colab": {
          "base_uri": "https://localhost:8080/"
        },
        "id": "bWTj7OJy4H6q",
        "outputId": "f5da516e-5e62-4d6b-dd99-1eedb117b0e3"
      },
      "execution_count": null,
      "outputs": [
        {
          "output_type": "stream",
          "name": "stdout",
          "text": [
            "[[ 5591.40379113]\n",
            " [ 5164.32418883]\n",
            " [ 2206.99371662]\n",
            " [ 5120.77664474]\n",
            " [ 6725.64052591]\n",
            " [10547.65974766]\n",
            " [12796.27787119]\n",
            " [ 6451.77417246]\n",
            " [ 3603.29923937]\n",
            " [ 4364.63378839]\n",
            " [ 4611.24403474]\n",
            " [ 4813.24980479]\n",
            " [ 5842.99911323]\n",
            " [ 5454.62040702]\n",
            " [ 2333.65259203]\n",
            " [ 4784.66102785]\n",
            " [ 6323.38588172]\n",
            " [10026.11615497]\n",
            " [12466.01124591]\n",
            " [ 7030.93351832]\n",
            " [ 3487.8672643 ]\n",
            " [ 3985.27319358]\n",
            " [ 4509.67570123]\n",
            " [ 4627.50622118]\n",
            " [ 5982.88678154]\n",
            " [ 5585.89798111]\n",
            " [ 2570.8087634 ]\n",
            " [ 4415.51073714]\n",
            " [ 6031.58279458]\n",
            " [ 9467.75562501]\n",
            " [12208.77932471]\n",
            " [ 8095.92507851]\n",
            " [ 3500.35780692]\n",
            " [ 3635.36063384]\n",
            " [ 4545.76267898]\n",
            " [ 4624.56737956]\n",
            " [ 6009.16383371]\n",
            " [ 5710.59585884]\n",
            " [ 2939.35876581]\n",
            " [ 3982.16071178]\n",
            " [ 5826.44442132]\n",
            " [ 8831.4075467 ]\n",
            " [11912.80104798]\n",
            " [ 9969.12043887]\n",
            " [ 3849.22722135]\n",
            " [ 3498.76150954]\n",
            " [ 4672.47791293]\n",
            " [ 4751.22485766]\n",
            " [ 5872.4270269 ]\n",
            " [ 5750.19737369]\n",
            " [ 3865.49313398]\n",
            " [ 3052.74413411]\n",
            " [ 5684.75067145]]\n"
          ]
        }
      ]
    },
    {
      "cell_type": "code",
      "source": [
        "test_data_inverse=scalar.inverse_transform(scaledtestdata)\n",
        "print(test_data_inverse)"
      ],
      "metadata": {
        "colab": {
          "base_uri": "https://localhost:8080/"
        },
        "id": "5XnCSdZC4Z0J",
        "outputId": "d175f4d7-2039-4984-d38d-268f2c3ca57d"
      },
      "execution_count": null,
      "outputs": [
        {
          "output_type": "stream",
          "name": "stdout",
          "text": [
            "[[ 4647.]\n",
            " [ 4753.]\n",
            " [ 3965.]\n",
            " [ 1723.]\n",
            " [ 5048.]\n",
            " [ 6922.]\n",
            " [ 9858.]\n",
            " [11331.]\n",
            " [ 4016.]\n",
            " [ 3957.]\n",
            " [ 4510.]\n",
            " [ 4276.]\n",
            " [ 4968.]\n",
            " [ 4677.]\n",
            " [ 3523.]\n",
            " [ 1821.]\n",
            " [ 5222.]\n",
            " [ 6872.]\n",
            " [10803.]\n",
            " [13916.]\n",
            " [ 2639.]\n",
            " [ 2899.]\n",
            " [ 3370.]\n",
            " [ 3740.]\n",
            " [ 2927.]\n",
            " [ 3986.]\n",
            " [ 4217.]\n",
            " [ 1738.]\n",
            " [ 5221.]\n",
            " [ 6424.]\n",
            " [ 9842.]\n",
            " [13076.]\n",
            " [ 3934.]\n",
            " [ 3162.]\n",
            " [ 4286.]\n",
            " [ 4676.]\n",
            " [ 5010.]\n",
            " [ 4874.]\n",
            " [ 4633.]\n",
            " [ 1659.]\n",
            " [ 5951.]\n",
            " [ 6981.]\n",
            " [ 9851.]\n",
            " [12670.]\n",
            " [ 4348.]\n",
            " [ 3564.]\n",
            " [ 4577.]\n",
            " [ 4788.]\n",
            " [ 4618.]\n",
            " [ 5312.]\n",
            " [ 4298.]\n",
            " [ 1413.]\n",
            " [ 5877.]]\n"
          ]
        }
      ]
    },
    {
      "cell_type": "code",
      "source": [
        "df=pd.DataFrame({'truevalue':test_data_inverse[:,0],'predictedvalue':true_pred[:,0]})\n",
        "print(df)"
      ],
      "metadata": {
        "colab": {
          "base_uri": "https://localhost:8080/"
        },
        "id": "6ifko_X14on2",
        "outputId": "d06c6e19-d1e4-407a-c3c8-ef47068d86b7"
      },
      "execution_count": null,
      "outputs": [
        {
          "output_type": "stream",
          "name": "stdout",
          "text": [
            "    truevalue  predictedvalue\n",
            "0      4647.0     5591.403791\n",
            "1      4753.0     5164.324189\n",
            "2      3965.0     2206.993717\n",
            "3      1723.0     5120.776645\n",
            "4      5048.0     6725.640526\n",
            "5      6922.0    10547.659748\n",
            "6      9858.0    12796.277871\n",
            "7     11331.0     6451.774172\n",
            "8      4016.0     3603.299239\n",
            "9      3957.0     4364.633788\n",
            "10     4510.0     4611.244035\n",
            "11     4276.0     4813.249805\n",
            "12     4968.0     5842.999113\n",
            "13     4677.0     5454.620407\n",
            "14     3523.0     2333.652592\n",
            "15     1821.0     4784.661028\n",
            "16     5222.0     6323.385882\n",
            "17     6872.0    10026.116155\n",
            "18    10803.0    12466.011246\n",
            "19    13916.0     7030.933518\n",
            "20     2639.0     3487.867264\n",
            "21     2899.0     3985.273194\n",
            "22     3370.0     4509.675701\n",
            "23     3740.0     4627.506221\n",
            "24     2927.0     5982.886782\n",
            "25     3986.0     5585.897981\n",
            "26     4217.0     2570.808763\n",
            "27     1738.0     4415.510737\n",
            "28     5221.0     6031.582795\n",
            "29     6424.0     9467.755625\n",
            "30     9842.0    12208.779325\n",
            "31    13076.0     8095.925079\n",
            "32     3934.0     3500.357807\n",
            "33     3162.0     3635.360634\n",
            "34     4286.0     4545.762679\n",
            "35     4676.0     4624.567380\n",
            "36     5010.0     6009.163834\n",
            "37     4874.0     5710.595859\n",
            "38     4633.0     2939.358766\n",
            "39     1659.0     3982.160712\n",
            "40     5951.0     5826.444421\n",
            "41     6981.0     8831.407547\n",
            "42     9851.0    11912.801048\n",
            "43    12670.0     9969.120439\n",
            "44     4348.0     3849.227221\n",
            "45     3564.0     3498.761510\n",
            "46     4577.0     4672.477913\n",
            "47     4788.0     4751.224858\n",
            "48     4618.0     5872.427027\n",
            "49     5312.0     5750.197374\n",
            "50     4298.0     3865.493134\n",
            "51     1413.0     3052.744134\n",
            "52     5877.0     5684.750671\n"
          ]
        }
      ]
    },
    {
      "cell_type": "code",
      "source": [
        "plt.plot(df['truevalue'])\n",
        "plt.plot(df['predictedvalue'])"
      ],
      "metadata": {
        "colab": {
          "base_uri": "https://localhost:8080/",
          "height": 448
        },
        "id": "YaZJiBoK5Ndh",
        "outputId": "f0e4f6dc-337b-4dd6-eb13-ece9ad35768e"
      },
      "execution_count": null,
      "outputs": [
        {
          "output_type": "execute_result",
          "data": {
            "text/plain": [
              "[<matplotlib.lines.Line2D at 0x787423580130>]"
            ]
          },
          "metadata": {},
          "execution_count": 35
        },
        {
          "output_type": "display_data",
          "data": {
            "text/plain": [
              "<Figure size 640x480 with 1 Axes>"
            ],
            "image/png": "[encoded data removed]"
          },
          "metadata": {}
        }
      ]
    },
    {
      "cell_type": "code",
      "source": [],
      "metadata": {
        "id": "K34H09Q15k3G"
      },
      "execution_count": null,
      "outputs": []
    }
  ]
}